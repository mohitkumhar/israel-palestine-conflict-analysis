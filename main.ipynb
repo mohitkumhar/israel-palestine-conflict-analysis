{
 "cells": [
  {
   "cell_type": "code",
   "execution_count": 2,
   "id": "4775ff64-2b4d-4c77-832f-fe20b58de2a4",
   "metadata": {},
   "outputs": [],
   "source": [
    "import pandas as pd\n",
    "import numpy as np"
   ]
  },
  {
   "cell_type": "code",
   "execution_count": 13,
   "id": "652c8467-7938-4e85-9954-7a4160d93f78",
   "metadata": {},
   "outputs": [],
   "source": [
    "df = pd.read_csv('fatalities.csv')"
   ]
  },
  {
   "cell_type": "code",
   "execution_count": 14,
   "id": "652ee2c4-3ede-4ebf-8aca-a85db25b2530",
   "metadata": {},
   "outputs": [
    {
     "data": {
      "text/plain": [
       "(11124, 16)"
      ]
     },
     "execution_count": 14,
     "metadata": {},
     "output_type": "execute_result"
    }
   ],
   "source": [
    "df.shape"
   ]
  },
  {
   "cell_type": "code",
   "execution_count": 15,
   "id": "55062dac-dced-4f8b-bb0f-a32edda2ac35",
   "metadata": {},
   "outputs": [
    {
     "data": {
      "text/html": [
       "<div>\n",
       "<style scoped>\n",
       "    .dataframe tbody tr th:only-of-type {\n",
       "        vertical-align: middle;\n",
       "    }\n",
       "\n",
       "    .dataframe tbody tr th {\n",
       "        vertical-align: top;\n",
       "    }\n",
       "\n",
       "    .dataframe thead th {\n",
       "        text-align: right;\n",
       "    }\n",
       "</style>\n",
       "<table border=\"1\" class=\"dataframe\">\n",
       "  <thead>\n",
       "    <tr style=\"text-align: right;\">\n",
       "      <th></th>\n",
       "      <th>name</th>\n",
       "      <th>date_of_event</th>\n",
       "      <th>age</th>\n",
       "      <th>citizenship</th>\n",
       "      <th>event_location</th>\n",
       "      <th>event_location_district</th>\n",
       "      <th>event_location_region</th>\n",
       "      <th>date_of_death</th>\n",
       "      <th>gender</th>\n",
       "      <th>took_part_in_the_hostilities</th>\n",
       "      <th>place_of_residence</th>\n",
       "      <th>place_of_residence_district</th>\n",
       "      <th>type_of_injury</th>\n",
       "      <th>ammunition</th>\n",
       "      <th>killed_by</th>\n",
       "      <th>notes</th>\n",
       "    </tr>\n",
       "  </thead>\n",
       "  <tbody>\n",
       "    <tr>\n",
       "      <th>0</th>\n",
       "      <td>'Abd a-Rahman Suleiman Muhammad Abu Daghash</td>\n",
       "      <td>2023-09-24</td>\n",
       "      <td>32.0</td>\n",
       "      <td>Palestinian</td>\n",
       "      <td>Nur Shams R.C.</td>\n",
       "      <td>Tulkarm</td>\n",
       "      <td>West Bank</td>\n",
       "      <td>2023-09-24</td>\n",
       "      <td>M</td>\n",
       "      <td>NaN</td>\n",
       "      <td>Nur Shams R.C.</td>\n",
       "      <td>Tulkarm</td>\n",
       "      <td>gunfire</td>\n",
       "      <td>live ammunition</td>\n",
       "      <td>Israeli security forces</td>\n",
       "      <td>Fatally shot by Israeli forces while standing ...</td>\n",
       "    </tr>\n",
       "    <tr>\n",
       "      <th>1</th>\n",
       "      <td>Usayed Farhan Muhammad 'Ali Abu 'Ali</td>\n",
       "      <td>2023-09-24</td>\n",
       "      <td>21.0</td>\n",
       "      <td>Palestinian</td>\n",
       "      <td>Nur Shams R.C.</td>\n",
       "      <td>Tulkarm</td>\n",
       "      <td>West Bank</td>\n",
       "      <td>2023-09-24</td>\n",
       "      <td>M</td>\n",
       "      <td>NaN</td>\n",
       "      <td>Nur Shams R.C.</td>\n",
       "      <td>Tulkarm</td>\n",
       "      <td>gunfire</td>\n",
       "      <td>live ammunition</td>\n",
       "      <td>Israeli security forces</td>\n",
       "      <td>Fatally shot by Israeli forces while trying to...</td>\n",
       "    </tr>\n",
       "    <tr>\n",
       "      <th>2</th>\n",
       "      <td>'Abdallah 'Imad Sa'ed Abu Hassan</td>\n",
       "      <td>2023-09-22</td>\n",
       "      <td>16.0</td>\n",
       "      <td>Palestinian</td>\n",
       "      <td>Kfar Dan</td>\n",
       "      <td>Jenin</td>\n",
       "      <td>West Bank</td>\n",
       "      <td>2023-09-22</td>\n",
       "      <td>M</td>\n",
       "      <td>NaN</td>\n",
       "      <td>al-Yamun</td>\n",
       "      <td>Jenin</td>\n",
       "      <td>gunfire</td>\n",
       "      <td>live ammunition</td>\n",
       "      <td>Israeli security forces</td>\n",
       "      <td>Fatally shot by soldiers while firing at them ...</td>\n",
       "    </tr>\n",
       "    <tr>\n",
       "      <th>3</th>\n",
       "      <td>Durgham Muhammad Yihya al-Akhras</td>\n",
       "      <td>2023-09-20</td>\n",
       "      <td>19.0</td>\n",
       "      <td>Palestinian</td>\n",
       "      <td>'Aqbat Jaber R.C.</td>\n",
       "      <td>Jericho</td>\n",
       "      <td>West Bank</td>\n",
       "      <td>2023-09-20</td>\n",
       "      <td>M</td>\n",
       "      <td>NaN</td>\n",
       "      <td>'Aqbat Jaber R.C.</td>\n",
       "      <td>Jericho</td>\n",
       "      <td>gunfire</td>\n",
       "      <td>live ammunition</td>\n",
       "      <td>Israeli security forces</td>\n",
       "      <td>Shot in the head by Israeli forces while throw...</td>\n",
       "    </tr>\n",
       "    <tr>\n",
       "      <th>4</th>\n",
       "      <td>Raafat 'Omar Ahmad Khamaisah</td>\n",
       "      <td>2023-09-19</td>\n",
       "      <td>15.0</td>\n",
       "      <td>Palestinian</td>\n",
       "      <td>Jenin R.C.</td>\n",
       "      <td>Jenin</td>\n",
       "      <td>West Bank</td>\n",
       "      <td>2023-09-19</td>\n",
       "      <td>M</td>\n",
       "      <td>NaN</td>\n",
       "      <td>Jenin</td>\n",
       "      <td>Jenin</td>\n",
       "      <td>gunfire</td>\n",
       "      <td>live ammunition</td>\n",
       "      <td>Israeli security forces</td>\n",
       "      <td>Wounded by soldiers’ gunfire after running awa...</td>\n",
       "    </tr>\n",
       "  </tbody>\n",
       "</table>\n",
       "</div>"
      ],
      "text/plain": [
       "                                          name date_of_event   age  \\\n",
       "0  'Abd a-Rahman Suleiman Muhammad Abu Daghash    2023-09-24  32.0   \n",
       "1         Usayed Farhan Muhammad 'Ali Abu 'Ali    2023-09-24  21.0   \n",
       "2             'Abdallah 'Imad Sa'ed Abu Hassan    2023-09-22  16.0   \n",
       "3             Durgham Muhammad Yihya al-Akhras    2023-09-20  19.0   \n",
       "4                 Raafat 'Omar Ahmad Khamaisah    2023-09-19  15.0   \n",
       "\n",
       "   citizenship     event_location event_location_district  \\\n",
       "0  Palestinian     Nur Shams R.C.                 Tulkarm   \n",
       "1  Palestinian     Nur Shams R.C.                 Tulkarm   \n",
       "2  Palestinian           Kfar Dan                   Jenin   \n",
       "3  Palestinian  'Aqbat Jaber R.C.                 Jericho   \n",
       "4  Palestinian         Jenin R.C.                   Jenin   \n",
       "\n",
       "  event_location_region date_of_death gender took_part_in_the_hostilities  \\\n",
       "0             West Bank    2023-09-24      M                          NaN   \n",
       "1             West Bank    2023-09-24      M                          NaN   \n",
       "2             West Bank    2023-09-22      M                          NaN   \n",
       "3             West Bank    2023-09-20      M                          NaN   \n",
       "4             West Bank    2023-09-19      M                          NaN   \n",
       "\n",
       "  place_of_residence place_of_residence_district type_of_injury  \\\n",
       "0     Nur Shams R.C.                     Tulkarm        gunfire   \n",
       "1     Nur Shams R.C.                     Tulkarm        gunfire   \n",
       "2           al-Yamun                       Jenin        gunfire   \n",
       "3  'Aqbat Jaber R.C.                     Jericho        gunfire   \n",
       "4              Jenin                       Jenin        gunfire   \n",
       "\n",
       "        ammunition                killed_by  \\\n",
       "0  live ammunition  Israeli security forces   \n",
       "1  live ammunition  Israeli security forces   \n",
       "2  live ammunition  Israeli security forces   \n",
       "3  live ammunition  Israeli security forces   \n",
       "4  live ammunition  Israeli security forces   \n",
       "\n",
       "                                               notes  \n",
       "0  Fatally shot by Israeli forces while standing ...  \n",
       "1  Fatally shot by Israeli forces while trying to...  \n",
       "2  Fatally shot by soldiers while firing at them ...  \n",
       "3  Shot in the head by Israeli forces while throw...  \n",
       "4  Wounded by soldiers’ gunfire after running awa...  "
      ]
     },
     "execution_count": 15,
     "metadata": {},
     "output_type": "execute_result"
    }
   ],
   "source": [
    "df.head()"
   ]
  },
  {
   "cell_type": "markdown",
   "id": "38ea2002-7803-45bd-bf56-952e784c4044",
   "metadata": {},
   "source": [
    "## Basic important information "
   ]
  },
  {
   "cell_type": "code",
   "execution_count": 41,
   "id": "b3a9b884-c12d-446b-bbf4-3466b9cdb873",
   "metadata": {},
   "outputs": [],
   "source": [
    "citizenship_counts = df['citizenship'].value_counts()\n",
    "event_location_region = df['event_location_region'].value_counts()\n",
    "hostilities_counts = df[df['took_part_in_the_hostilities'] == 'Yes']['citizenship'].value_counts()\n",
    "no_hostilities_counts = df[df['took_part_in_the_hostilities'] == 'No']['citizenship'].value_counts()"
   ]
  },
  {
   "cell_type": "code",
   "execution_count": 42,
   "id": "fb779034-4472-4c1f-8d03-c5dbe7e9d4a7",
   "metadata": {},
   "outputs": [
    {
     "data": {
      "text/plain": [
       "citizenship\n",
       "Palestinian    10092\n",
       "Israeli         1029\n",
       "Jordanian          2\n",
       "American           1\n",
       "Name: count, dtype: int64"
      ]
     },
     "execution_count": 42,
     "metadata": {},
     "output_type": "execute_result"
    }
   ],
   "source": [
    "citizenship_counts"
   ]
  },
  {
   "cell_type": "code",
   "execution_count": 43,
   "id": "9f434719-6e58-4ffd-afdd-9d3d0389ccfd",
   "metadata": {},
   "outputs": [
    {
     "data": {
      "text/plain": [
       "event_location_region\n",
       "Gaza Strip    7733\n",
       "West Bank     2712\n",
       "Israel         679\n",
       "Name: count, dtype: int64"
      ]
     },
     "execution_count": 43,
     "metadata": {},
     "output_type": "execute_result"
    }
   ],
   "source": [
    "event_location_region"
   ]
  },
  {
   "cell_type": "code",
   "execution_count": 44,
   "id": "ac7f4d4f-0330-48e8-852f-bf57304970d7",
   "metadata": {},
   "outputs": [
    {
     "data": {
      "text/plain": [
       "citizenship\n",
       "Palestinian    3466\n",
       "Israeli           1\n",
       "Name: count, dtype: int64"
      ]
     },
     "execution_count": 44,
     "metadata": {},
     "output_type": "execute_result"
    }
   ],
   "source": [
    "hostilities_counts"
   ]
  },
  {
   "cell_type": "code",
   "execution_count": 45,
   "id": "2f0abecc-b899-4765-91f6-a9f5f92988e4",
   "metadata": {},
   "outputs": [
    {
     "data": {
      "text/plain": [
       "citizenship\n",
       "Palestinian    4652\n",
       "Jordanian         1\n",
       "Name: count, dtype: int64"
      ]
     },
     "execution_count": 45,
     "metadata": {},
     "output_type": "execute_result"
    }
   ],
   "source": [
    "no_hostilities_counts"
   ]
  },
  {
   "cell_type": "code",
   "execution_count": 47,
   "id": "1ab2cc2f-ac23-496a-a8a2-424cf613a7c0",
   "metadata": {},
   "outputs": [
    {
     "data": {
      "text/plain": [
       "ammunition\n",
       "missile                        2877\n",
       "live ammunition                1514\n",
       "shell                           675\n",
       "explosive belt                  326\n",
       "bomb                            249\n",
       "mortar fire                      51\n",
       "knife                            37\n",
       "flechette shells                 22\n",
       "rubber-coated metal bullets      19\n",
       "0.22-caliber bullets             16\n",
       "phosphorus shell                 16\n",
       "Qassam rocket                    15\n",
       "car bomb                         15\n",
       "teargas canister                 13\n",
       "rocket                           12\n",
       "grad rocket                       7\n",
       "sponge rounds                     2\n",
       "grenade                           2\n",
       "flare bomb                        1\n",
       "stun grenade                      1\n",
       "rock                              1\n",
       "Name: count, dtype: int64"
      ]
     },
     "execution_count": 47,
     "metadata": {},
     "output_type": "execute_result"
    }
   ],
   "source": [
    "df['ammunition'].value_counts()"
   ]
  },
  {
   "cell_type": "markdown",
   "id": "454c16ca-50de-49eb-875c-766dd077196b",
   "metadata": {},
   "source": [
    "## Types of Fires"
   ]
  },
  {
   "cell_type": "code",
   "execution_count": 48,
   "id": "5726b2c8-cca4-4e71-a574-d5974b562250",
   "metadata": {},
   "outputs": [
    {
     "data": {
      "text/plain": [
       "type_of_injury\n",
       "gunfire                         9849\n",
       "explosion                        555\n",
       "shelling                         311\n",
       "stabbing                          48\n",
       "house demolition                  25\n",
       "hit by a vehicle                  18\n",
       "beating                            9\n",
       "stones throwing                    6\n",
       "being bludgeoned with an axe       4\n",
       "fire                               4\n",
       "physically assaulted               2\n",
       "physical assault                   1\n",
       "Strangulation                      1\n",
       "Name: count, dtype: int64"
      ]
     },
     "execution_count": 48,
     "metadata": {},
     "output_type": "execute_result"
    }
   ],
   "source": [
    "df['type_of_injury'].value_counts()"
   ]
  },
  {
   "cell_type": "code",
   "execution_count": 49,
   "id": "a21a47ef-8a67-4ebc-a5e9-3e43f8dfc910",
   "metadata": {},
   "outputs": [
    {
     "data": {
      "text/plain": [
       "<Axes: xlabel='gender'>"
      ]
     },
     "execution_count": 49,
     "metadata": {},
     "output_type": "execute_result"
    },
    {
     "data": {
      "image/png": "[encoded data removed]",
      "text/plain": [
       "<Figure size 640x480 with 1 Axes>"
      ]
     },
     "metadata": {},
     "output_type": "display_data"
    }
   ],
   "source": [
    "df['gender'].value_counts().plot(kind='bar')"
   ]
  },
  {
   "cell_type": "markdown",
   "id": "36984a9a-cad8-4039-947b-e33338a3813f",
   "metadata": {},
   "source": [
    "## Calculate Summary Statisticsfor 'age'"
   ]
  },
  {
   "cell_type": "code",
   "execution_count": 50,
   "id": "4cb89ae7-f6f5-4ec2-b9e8-b001110edc80",
   "metadata": {},
   "outputs": [
    {
     "data": {
      "text/plain": [
       "count    10995.000000\n",
       "mean        26.745703\n",
       "std         13.780548\n",
       "min          1.000000\n",
       "25%         19.000000\n",
       "50%         23.000000\n",
       "75%         31.000000\n",
       "max        112.000000\n",
       "Name: age, dtype: float64"
      ]
     },
     "execution_count": 50,
     "metadata": {},
     "output_type": "execute_result"
    }
   ],
   "source": [
    "df['age'].describe()"
   ]
  },
  {
   "cell_type": "markdown",
   "id": "17a2bedc-d4d8-4579-a831-bfdc34ee7edf",
   "metadata": {},
   "source": [
    "## Group data by 'event location_region' and count incidents"
   ]
  },
  {
   "cell_type": "code",
   "execution_count": 52,
   "id": "b3779e55-36d2-4ea9-add8-f28e3db1c6be",
   "metadata": {},
   "outputs": [
    {
     "data": {
      "text/plain": [
       "<Axes: xlabel='event_location_region'>"
      ]
     },
     "execution_count": 52,
     "metadata": {},
     "output_type": "execute_result"
    },
    {
     "data": {
      "image/png": "[encoded data removed]",
      "text/plain": [
       "<Figure size 640x480 with 1 Axes>"
      ]
     },
     "metadata": {},
     "output_type": "display_data"
    }
   ],
   "source": [
    "df['event_location_region'].value_counts().plot(kind='bar')"
   ]
  },
  {
   "cell_type": "markdown",
   "id": "779b7165-9947-4e1c-81ac-bed2d62ea68d",
   "metadata": {},
   "source": [
    "## Count unique Values of 'place_of_residence' within each region"
   ]
  },
  {
   "cell_type": "code",
   "execution_count": 53,
   "id": "4569fd18-f937-4397-98f2-d1e506d5aeef",
   "metadata": {},
   "outputs": [
    {
     "data": {
      "text/plain": [
       "<Axes: ylabel='place_of_residence'>"
      ]
     },
     "execution_count": 53,
     "metadata": {},
     "output_type": "execute_result"
    },
    {
     "data": {
      "image/png": "[encoded data removed]",
      "text/plain": [
       "<Figure size 640x480 with 1 Axes>"
      ]
     },
     "metadata": {},
     "output_type": "display_data"
    }
   ],
   "source": [
    "df.groupby('event_location_region')['place_of_residence'].nunique().plot(kind='pie')"
   ]
  },
  {
   "cell_type": "markdown",
   "id": "3b28f189-9dc5-4a9d-a7a3-bbe4ac56857c",
   "metadata": {},
   "source": [
    "# Calculate average age by 'event_location_region'"
   ]
  },
  {
   "cell_type": "code",
   "execution_count": 57,
   "id": "42863a23-ecf2-4e92-8695-568ef3895df4",
   "metadata": {},
   "outputs": [
    {
     "data": {
      "text/plain": [
       "event_location_region\n",
       "Gaza Strip    26.020224\n",
       "Israel        36.286776\n",
       "West Bank     26.421746\n",
       "Name: age, dtype: float64"
      ]
     },
     "execution_count": 57,
     "metadata": {},
     "output_type": "execute_result"
    }
   ],
   "source": [
    "df.groupby('event_location_region')['age'].mean()"
   ]
  },
  {
   "cell_type": "markdown",
   "id": "4cfc3a8e-90e9-4420-b866-e61db15fbbec",
   "metadata": {},
   "source": [
    "## Data Filtering Example: Incidents in a specific region with specifc characteristics"
   ]
  },
  {
   "cell_type": "code",
   "execution_count": 58,
   "id": "95df7fee-8968-489a-988f-ffb42ae0e4c9",
   "metadata": {},
   "outputs": [
    {
     "data": {
      "text/html": [
       "<div>\n",
       "<style scoped>\n",
       "    .dataframe tbody tr th:only-of-type {\n",
       "        vertical-align: middle;\n",
       "    }\n",
       "\n",
       "    .dataframe tbody tr th {\n",
       "        vertical-align: top;\n",
       "    }\n",
       "\n",
       "    .dataframe thead th {\n",
       "        text-align: right;\n",
       "    }\n",
       "</style>\n",
       "<table border=\"1\" class=\"dataframe\">\n",
       "  <thead>\n",
       "    <tr style=\"text-align: right;\">\n",
       "      <th></th>\n",
       "      <th>citizenship</th>\n",
       "      <th>incident_count</th>\n",
       "    </tr>\n",
       "  </thead>\n",
       "  <tbody>\n",
       "    <tr>\n",
       "      <th>0</th>\n",
       "      <td>American</td>\n",
       "      <td>1</td>\n",
       "    </tr>\n",
       "    <tr>\n",
       "      <th>1</th>\n",
       "      <td>Israeli</td>\n",
       "      <td>1029</td>\n",
       "    </tr>\n",
       "    <tr>\n",
       "      <th>2</th>\n",
       "      <td>Jordanian</td>\n",
       "      <td>2</td>\n",
       "    </tr>\n",
       "    <tr>\n",
       "      <th>3</th>\n",
       "      <td>Palestinian</td>\n",
       "      <td>10092</td>\n",
       "    </tr>\n",
       "  </tbody>\n",
       "</table>\n",
       "</div>"
      ],
      "text/plain": [
       "   citizenship  incident_count\n",
       "0     American               1\n",
       "1      Israeli            1029\n",
       "2    Jordanian               2\n",
       "3  Palestinian           10092"
      ]
     },
     "execution_count": 58,
     "metadata": {},
     "output_type": "execute_result"
    }
   ],
   "source": [
    "df.groupby('citizenship').size().reset_index(name='incident_count')"
   ]
  },
  {
   "cell_type": "code",
   "execution_count": null,
   "id": "053c9731-eb13-462b-9e3b-26acb90a55a2",
   "metadata": {},
   "outputs": [],
   "source": []
  }
 ],
 "metadata": {
  "kernelspec": {
   "display_name": "Python 3 (ipykernel)",
   "language": "python",
   "name": "python3"
  },
  "language_info": {
   "codemirror_mode": {
    "name": "ipython",
    "version": 3
   },
   "file_extension": ".py",
   "mimetype": "text/x-python",
   "name": "python",
   "nbconvert_exporter": "python",
   "pygments_lexer": "ipython3",
   "version": "3.10.6"
  }
 },
 "nbformat": 4,
 "nbformat_minor": 5
}
